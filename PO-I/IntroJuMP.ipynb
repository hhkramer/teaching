{
 "cells": [
  {
   "cell_type": "markdown",
   "metadata": {},
   "source": [
    "# Introdução à modelagem em Programação Matemática com Julia/JuMP\n",
    "Este notebook mostrará:\n",
    "- Como incluir o JuMP em um código escrito em Julia\n",
    "- Como criar um modelo de Programação Matemática vazio\n",
    "- Como definir uma variável e adicioná-la ao modelo\n",
    "- Como definir uma função objetivo e inclui-la no modelo\n",
    "- Como definir uma restrição e inclui-la no modelo\n",
    "- Como imprimir o modelo criado na tela\n",
    "\n",
    "Como exemplo, usaremos o seguinte Problema de Programação Linear:  \n",
    "maximizar 3000 x_al + 5000 xmad  \n",
    "sujeito a  \n",
    "x_al <= 4  \n",
    "2 x_mad <= 12  \n",
    "3 x_al + 2 x_mad <= 18  \n",
    "x_al, x_mad >= 0  "
   ]
  },
  {
   "cell_type": "markdown",
   "metadata": {},
   "source": [
    "## Incluindo o pacote JuMP\n",
    "Para criar um modelo de Programação Matemática em Julia com o pacote JuMP, é necessário inclui-lo no código com o comando abaixo:"
   ]
  },
  {
   "cell_type": "code",
   "execution_count": 7,
   "metadata": {},
   "outputs": [],
   "source": [
    "using JuMP"
   ]
  },
  {
   "cell_type": "markdown",
   "metadata": {},
   "source": [
    "## Criando um modelo vazio\n",
    "Com a inclusão do pacote JuMP, o primeiro passo é criar o modelo ainda vazio. Para tanto, chama-se a função `Model()` atribuindo-a a uma variável."
   ]
  },
  {
   "cell_type": "code",
   "execution_count": 8,
   "metadata": {},
   "outputs": [
    {
     "data": {
      "text/latex": [
       "$$ \\begin{alignat*}{1}\\min\\quad & 0\\\\\n",
       "\\text{Subject to} \\quad\\end{alignat*}\n",
       " $$"
      ],
      "text/plain": [
       "Feasibility problem with:\n",
       " * 0 linear constraints\n",
       " * 0 variables\n",
       "Solver is default solver"
      ]
     },
     "execution_count": 8,
     "metadata": {},
     "output_type": "execute_result"
    }
   ],
   "source": [
    "modelo = Model()"
   ]
  },
  {
   "cell_type": "markdown",
   "metadata": {},
   "source": [
    "## Criando e adicionando uma variável de decisão\n",
    "Uma variável de decisão é criada e adicionada a um modelo usando a macro `@variable()` do JuMP. Devem ser especificados nos argumentos da macro:\n",
    "- O modelo onde a variável de decisão será inserida\n",
    "- O nome da variável de decisão\n",
    "- Os limites da variável de decisão\n",
    "- O tipo da variável de decisão (opcional)\n",
    "\n",
    "Para o exemplo, devemos criar as variáveis `x_al` e `x_mad` e adicioná-las ao modelo `modelo`:"
   ]
  },
  {
   "cell_type": "code",
   "execution_count": 9,
   "metadata": {},
   "outputs": [
    {
     "data": {
      "text/latex": [
       "$$ x_al $$"
      ],
      "text/plain": [
       "x_al"
      ]
     },
     "execution_count": 9,
     "metadata": {},
     "output_type": "execute_result"
    }
   ],
   "source": [
    "@variable(modelo, x_al >= 0)"
   ]
  },
  {
   "cell_type": "code",
   "execution_count": 10,
   "metadata": {},
   "outputs": [
    {
     "data": {
      "text/latex": [
       "$$ x_mad $$"
      ],
      "text/plain": [
       "x_mad"
      ]
     },
     "execution_count": 10,
     "metadata": {},
     "output_type": "execute_result"
    }
   ],
   "source": [
    "@variable(modelo, x_mad >= 0)"
   ]
  },
  {
   "cell_type": "markdown",
   "metadata": {},
   "source": [
    "## Criando e adicionando uma função objetivo\n",
    "A função objetivo é criada e adicionada a um modelo com a macro `@objective()` do JuMP. Nos argumentos da macro devem ser especificados:\n",
    "- O modelo ao qual a FO será adicionada\n",
    "- O sentido da FO: Min, se for de minimização, ou Max, se for de maximização\n",
    "- A expressão da FO\n",
    "\n",
    "Para o exemplo, criaremos uma FO de maximização (`Max`) cuja expressão é `3000 x_al + 5000 x_mad` e vamos adicioná-la ao modelo `modelo`:"
   ]
  },
  {
   "cell_type": "code",
   "execution_count": 11,
   "metadata": {},
   "outputs": [
    {
     "data": {
      "text/latex": [
       "$$ 3000 x_al + 5000 x_mad $$"
      ],
      "text/plain": [
       "3000 x_al + 5000 x_mad"
      ]
     },
     "execution_count": 11,
     "metadata": {},
     "output_type": "execute_result"
    }
   ],
   "source": [
    "@objective(modelo, Max, 3000* x_al + 5000 * x_mad)"
   ]
  },
  {
   "cell_type": "markdown",
   "metadata": {},
   "source": [
    "## Criando e adicionando uma restrição\n",
    "Uma restrição é criada e adicionada a um modelo por meio da macro `@constraint()` do JuMP. O argumentos da macro devem incluir:\n",
    "- O modelo ao qual a restrição será adicionada\n",
    "- O nome da restrição (opcional)\n",
    "- A expressão da restrição\n",
    "- O sentido da restrição (<=, == ou >=)\n",
    "- O lado direito da restrição\n",
    "\n",
    "No nosso exemplo, serão criadas três restrições de `<=` que chamaremos de `Fab1`, `Fab2` e `Fab3` e serão adicionadas ao modelo `modelo`:"
   ]
  },
  {
   "cell_type": "code",
   "execution_count": 12,
   "metadata": {},
   "outputs": [
    {
     "data": {
      "text/latex": [
       "$$ x_al \\leq 4 $$"
      ],
      "text/plain": [
       "x_al ≤ 4"
      ]
     },
     "execution_count": 12,
     "metadata": {},
     "output_type": "execute_result"
    }
   ],
   "source": [
    "@constraint(modelo, Fab1, x_al <= 4)"
   ]
  },
  {
   "cell_type": "code",
   "execution_count": 13,
   "metadata": {},
   "outputs": [
    {
     "data": {
      "text/latex": [
       "$$ 2 x_mad \\leq 12 $$"
      ],
      "text/plain": [
       "2 x_mad ≤ 12"
      ]
     },
     "execution_count": 13,
     "metadata": {},
     "output_type": "execute_result"
    }
   ],
   "source": [
    "@constraint(modelo, Fab2, 2 * x_mad <= 12)"
   ]
  },
  {
   "cell_type": "code",
   "execution_count": 14,
   "metadata": {},
   "outputs": [
    {
     "data": {
      "text/latex": [
       "$$ 3 x_al + 2 x_mad \\leq 18 $$"
      ],
      "text/plain": [
       "3 x_al + 2 x_mad ≤ 18"
      ]
     },
     "execution_count": 14,
     "metadata": {},
     "output_type": "execute_result"
    }
   ],
   "source": [
    "@constraint(modelo, Fab3, 3 * x_al + 2 * x_mad <= 18)"
   ]
  },
  {
   "cell_type": "markdown",
   "metadata": {},
   "source": [
    "## Exibindo o modelo gerado na tela\n",
    "Em Julia, uma das funções de saída na tela é `println()`. Usaremos esta função para imprimir o modelo gerado:"
   ]
  },
  {
   "cell_type": "code",
   "execution_count": 15,
   "metadata": {},
   "outputs": [
    {
     "name": "stdout",
     "output_type": "stream",
     "text": [
      "Max 3000 x_al + 5000 x_mad\n",
      "Subject to\n",
      " x_al ≤ 4\n",
      " 2 x_mad ≤ 12\n",
      " 3 x_al + 2 x_mad ≤ 18\n",
      " x_al ≥ 0\n",
      " x_mad ≥ 0\n"
     ]
    }
   ],
   "source": [
    "print(modelo)"
   ]
  },
  {
   "cell_type": "code",
   "execution_count": null,
   "metadata": {},
   "outputs": [],
   "source": []
  }
 ],
 "metadata": {
  "kernelspec": {
   "display_name": "Julia 1.0.3",
   "language": "julia",
   "name": "julia-1.0"
  },
  "language_info": {
   "file_extension": ".jl",
   "mimetype": "application/julia",
   "name": "julia",
   "version": "1.0.3"
  }
 },
 "nbformat": 4,
 "nbformat_minor": 2
}
